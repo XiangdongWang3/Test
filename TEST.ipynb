{
 "cells": [
  {
   "cell_type": "markdown",
   "metadata": {},
   "source": [
    "# Test"
   ]
  },
  {
   "cell_type": "markdown",
   "metadata": {},
   "source": [
    "## Setup"
   ]
  },
  {
   "cell_type": "code",
   "execution_count": 4,
   "metadata": {},
   "outputs": [],
   "source": [
    "from pymongo import MongoClient\n",
    "client = MongoClient('localhost',27017) ## or MongoClient(\"localhost:27\")\n",
    "db = client.apan5400"
   ]
  },
  {
   "cell_type": "markdown",
   "metadata": {},
   "source": [
    "## eadme"
   ]
  },
  {
   "cell_type": "code",
   "execution_count": null,
   "metadata": {},
   "outputs": [
    {
     "name": "stdout",
     "output_type": "stream",
     "text": [
      "15\n"
     ]
    },
    {
     "data": {
      "text/plain": [
       "[{'company': 'Apple',\n",
       "  'city': 'Cupertino',\n",
       "  'state': 'California',\n",
       "  'country': 'USA',\n",
       "  'description': 'American multinational technology company that designs, develops, and sells consumer electronics, computer software, and online services',\n",
       "  'employees': 164000,\n",
       "  'founded': 1976,\n",
       "  'revenue': 394.33},\n",
       " {'company': 'Microsoft',\n",
       "  'city': 'Redmond',\n",
       "  'state': 'Washington',\n",
       "  'country': 'USA',\n",
       "  'description': 'American multinational technology company that develops, manufactures, licenses, supports, and sells computer software, consumer electronics, personal computers, and related services.',\n",
       "  'employees': 221000,\n",
       "  'founded': 1975,\n",
       "  'revenue': 198.27},\n",
       " {'company': 'Amazon',\n",
       "  'city': 'Seattle',\n",
       "  'state': 'Washington',\n",
       "  'country': 'USA',\n",
       "  'description': 'American multinational technology company which focuses on e-commerce, cloud computing, digital streaming, and artificial intelligence.',\n",
       "  'employees': 1541000,\n",
       "  'founded': 1994,\n",
       "  'revenue': 513.98},\n",
       " {'company': 'Alphabet',\n",
       "  'city': 'Mountain View',\n",
       "  'state': 'California',\n",
       "  'country': 'USA',\n",
       "  'description': 'American multinational technology company that specializes in Internet-related services and products, which include online advertising technologies, a search engine, cloud computing, software, and hardware.',\n",
       "  'employees': 190234,\n",
       "  'founded': 1998,\n",
       "  'revenue': 282.84},\n",
       " {'company': 'Alibaba Group',\n",
       "  'city': 'Hangzhou',\n",
       "  'state': 'Zhejiang',\n",
       "  'country': 'China',\n",
       "  'description': 'Chinese\\xa0multinational\\xa0technology company\\xa0specializing in\\xa0e-commerce,\\xa0retail,\\xa0Internet, and\\xa0technology.',\n",
       "  'employees': 239740,\n",
       "  'founded': 1999,\n",
       "  'revenue': 134.57},\n",
       " {'company': 'Sony Group',\n",
       "  'city': 'Tokyo',\n",
       "  'state': 'Tokyo',\n",
       "  'country': 'Japan',\n",
       "  'description': 'Japanese\\xa0multinational\\xa0conglomerate that manufactures consumer and professional electronic products, is the largest video game console company and one of the most\\xa0comprehensive media companies.',\n",
       "  'employees': 108900,\n",
       "  'founded': 1946,\n",
       "  'revenue': 88.3},\n",
       " {'company': 'Samsung Electronics',\n",
       "  'city': 'Suwon',\n",
       "  'state': 'Gyeonggi',\n",
       "  'country': 'South Korea',\n",
       "  'description': \"South Korean multinational electronics company that is the world's largest manufacturer of mobile phones, smartphones, and memory chips.\",\n",
       "  'employees': 266673,\n",
       "  'founded': 1969,\n",
       "  'revenue': 245.7},\n",
       " {'company': 'Mercedes-Benz Group',\n",
       "  'city': 'Stuttgart',\n",
       "  'state': 'Baden-Wurttemberg',\n",
       "  'country': 'Germany',\n",
       "  'description': \"German multinational automotive corporation that is one of the world's leading car and truck manufacturers.\",\n",
       "  'employees': 172425,\n",
       "  'founded': 1926,\n",
       "  'revenue': 153.95},\n",
       " {'company': 'Tesla',\n",
       "  'city': 'Austin',\n",
       "  'state': 'Texas',\n",
       "  'country': 'USA',\n",
       "  'description': 'American company that designs and manufactures electric vehicles, battery energy storage, and related products and services.',\n",
       "  'employees': 127855,\n",
       "  'founded': 2003,\n",
       "  'revenue': 81.46},\n",
       " {'company': 'British Petroleum',\n",
       "  'city': 'London',\n",
       "  'state': 'England',\n",
       "  'country': 'UK',\n",
       "  'description': 'British multinational oil and gas company involved in exploration, extraction, refining, distribution, marketing, power generation, and trading.',\n",
       "  'employees': 65900,\n",
       "  'founded': 1909,\n",
       "  'revenue': 248.89},\n",
       " {'company': 'China National Petroleum Corporation',\n",
       "  'city': 'Beijing',\n",
       "  'country': 'China',\n",
       "  'description': 'Major national oil and gas corporation of China and one of the largest integrated energy groups in the world.',\n",
       "  'employees': 1448400,\n",
       "  'founded': 1988,\n",
       "  'revenue': 411.7},\n",
       " {'company': 'Saudi Aramco',\n",
       "  'city': 'Dhahran',\n",
       "  'state': 'Eastern Province',\n",
       "  'country': 'Saudi Arabia',\n",
       "  'description': \"Saudi Arabian public petroleum and natural gas company with the world's second-largest proven crude oil reserves.\",\n",
       "  'employees': 66800,\n",
       "  'founded': 1933,\n",
       "  'revenue': 552.25},\n",
       " {'company': 'Glencore',\n",
       "  'city': 'Baar',\n",
       "  'state': 'Zug',\n",
       "  'country': 'Switzerland',\n",
       "  'description': 'Anglo-Swiss multinational commodity trading and mining company.',\n",
       "  'employees': 135000,\n",
       "  'founded': 1974,\n",
       "  'revenue': 255.98},\n",
       " {'company': 'Toyota Motor',\n",
       "  'city': 'Toyota',\n",
       "  'state': 'Aichi',\n",
       "  'country': 'Japan',\n",
       "  'description': 'Japanese multinational automotive manufacturer and one of the largest automobile manufacturers in the world.',\n",
       "  'employees': 366283,\n",
       "  'founded': 1937,\n",
       "  'revenue': 267.02},\n",
       " {'company': 'Allianz',\n",
       "  'city': 'Munich',\n",
       "  'state': 'Bavaria',\n",
       "  'country': 'Germany',\n",
       "  'description': 'German multinational financial services company with core businesses of insurance and asset management.',\n",
       "  'employees': 155411,\n",
       "  'founded': 1890,\n",
       "  'revenue': 161.44}]"
      ]
     },
     "execution_count": 6,
     "metadata": {},
     "output_type": "execute_result"
    }
   ],
   "source": [
    "import json\n",
    "\n",
    "with open(\"/Users/wangxd/Desktop/M.S. of AA/APAN 5400 Python/5400 A3/companies.json\", \"r\") as file:\n",
    "    newsfeeds = json.load(file)  \n",
    "\n",
    "\n",
    "newsfeeds"
   ]
  },
  {
   "cell_type": "markdown",
   "metadata": {},
   "source": []
  },
  {
   "cell_type": "code",
   "execution_count": null,
   "metadata": {},
   "outputs": [],
   "source": [
    "\n",
    "\n"
   ]
  }
 ],
 "metadata": {
  "kernelspec": {
   "display_name": "base",
   "language": "python",
   "name": "python3"
  },
  "language_info": {
   "codemirror_mode": {
    "name": "ipython",
    "version": 3
   },
   "file_extension": ".py",
   "mimetype": "text/x-python",
   "name": "python",
   "nbconvert_exporter": "python",
   "pygments_lexer": "ipython3",
   "version": "3.8.12"
  }
 },
 "nbformat": 4,
 "nbformat_minor": 2
}
